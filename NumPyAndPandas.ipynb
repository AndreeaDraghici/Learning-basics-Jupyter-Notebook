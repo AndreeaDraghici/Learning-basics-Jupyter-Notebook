{
 "cells": [
  {
   "cell_type": "code",
   "execution_count": 2,
   "id": "873d2f43-1859-43bc-abba-4d1aa0849f53",
   "metadata": {},
   "outputs": [
    {
     "data": {
      "text/plain": [
       "array([2, 3, 1])"
      ]
     },
     "execution_count": 2,
     "metadata": {},
     "output_type": "execute_result"
    }
   ],
   "source": [
    "import numpy as np\n",
    "\n",
    "# creating an array using Python lists\n",
    "arr=[2,3,1]\n",
    "np.array(arr)"
   ]
  },
  {
   "cell_type": "code",
   "execution_count": 4,
   "id": "9257e1a2-8fdb-491e-b3a3-c27cbd66aeaf",
   "metadata": {},
   "outputs": [
    {
     "data": {
      "text/plain": [
       "array([ 0,  3,  6,  9, 12, 15, 18, 21, 24, 27])"
      ]
     },
     "execution_count": 4,
     "metadata": {},
     "output_type": "execute_result"
    }
   ],
   "source": [
    "# creating an array of linearly-speced elements\n",
    "# starting with 0, ending at 30 stepping by 3\n",
    "np.arange(0,30,3)"
   ]
  },
  {
   "cell_type": "code",
   "execution_count": 5,
   "id": "d2781a03-348d-40ff-9b61-d95ddf4e6310",
   "metadata": {},
   "outputs": [
    {
     "data": {
      "text/plain": [
       "array([ 0. ,  2.5,  5. ,  7.5, 10. ])"
      ]
     },
     "execution_count": 5,
     "metadata": {},
     "output_type": "execute_result"
    }
   ],
   "source": [
    "# creating an array by dividing a range into a number of parts\n",
    "# starting with 0 and ending at 10 divided into 5 elements\n",
    "np.linspace(0,10,5)"
   ]
  },
  {
   "cell_type": "code",
   "execution_count": 6,
   "id": "eac6818e-e1b8-4a4a-b626-1b153a749a88",
   "metadata": {},
   "outputs": [
    {
     "data": {
      "text/plain": [
       "array([[-0.14987512, -1.18215038, -1.58571979],\n",
       "       [ 1.76204813,  0.17311594,  0.09687449],\n",
       "       [ 0.14049602,  0.30444836, -2.116034  ]])"
      ]
     },
     "execution_count": 6,
     "metadata": {},
     "output_type": "execute_result"
    }
   ],
   "source": [
    "# creating a 2D array with normally distributed random values\n",
    "# mean at 0 and standard deviation 1\n",
    "np.random.normal(0,1,(3,3))"
   ]
  },
  {
   "cell_type": "code",
   "execution_count": 9,
   "id": "82f5a2ad-7bd8-415b-8c30-77d0c44bf2e3",
   "metadata": {},
   "outputs": [
    {
     "name": "stdout",
     "output_type": "stream",
     "text": [
      "Arr3 dimension:  3\n",
      "Arr3 shape:  (3, 4, 5)\n",
      "Arr3 size:  60\n",
      "Arr3 bytes:  240  bytes\n"
     ]
    }
   ],
   "source": [
    "## set a seed value to generate same random values on every run\n",
    "np.random.seed(0)\n",
    "\n",
    "# create 3 arrays(1D,2D,3D)\n",
    "arr1=np.random.randint(10,size=6)\n",
    "arr2=np.random.randint(10,size=(3,4))\n",
    "arr3=np.random.randint(10,size=(3,4,5))\n",
    "\n",
    "## printing the dimension, shape, size and bytes of an array\n",
    "print(\"Arr3 dimension: \", arr3.ndim)\n",
    "print(\"Arr3 shape: \",arr3.shape)\n",
    "print(\"Arr3 size: \",arr3.size)\n",
    "print(\"Arr3 bytes: \",arr3.nbytes,\" bytes\")"
   ]
  },
  {
   "cell_type": "code",
   "execution_count": 10,
   "id": "5830c76e-c739-4708-b5b7-19356955638c",
   "metadata": {},
   "outputs": [
    {
     "data": {
      "text/plain": [
       "array([ 8, 10, 12])"
      ]
     },
     "execution_count": 10,
     "metadata": {},
     "output_type": "execute_result"
    }
   ],
   "source": [
    "## defining 2 arrays and adding them as vectors\n",
    "a=np.array([3,4,5])\n",
    "b=np.array([5,6,7])\n",
    "\n",
    "a+b"
   ]
  },
  {
   "cell_type": "code",
   "execution_count": 11,
   "id": "1ade888b-079a-45d0-8b73-c6c51d0b05db",
   "metadata": {},
   "outputs": [
    {
     "data": {
      "text/plain": [
       "array([[1., 1., 1.],\n",
       "       [1., 1., 1.],\n",
       "       [1., 1., 1.]])"
      ]
     },
     "execution_count": 11,
     "metadata": {},
     "output_type": "execute_result"
    }
   ],
   "source": [
    "# creating an array of 1s\n",
    "one=np.ones((3,3))\n",
    "one"
   ]
  },
  {
   "cell_type": "code",
   "execution_count": 12,
   "id": "4c25d864-47c8-4582-a07d-4111f279421f",
   "metadata": {},
   "outputs": [
    {
     "data": {
      "text/plain": [
       "array([[4., 5., 6.],\n",
       "       [4., 5., 6.],\n",
       "       [4., 5., 6.]])"
      ]
     },
     "execution_count": 12,
     "metadata": {},
     "output_type": "execute_result"
    }
   ],
   "source": [
    "# adding a 1D array tto a 2D array\n",
    "one+a"
   ]
  },
  {
   "cell_type": "code",
   "execution_count": 13,
   "id": "22644da1-4839-4877-9bf7-085d8cad3b21",
   "metadata": {},
   "outputs": [
    {
     "data": {
      "text/plain": [
       "array([False, False,  True,  True])"
      ]
     },
     "execution_count": 13,
     "metadata": {},
     "output_type": "execute_result"
    }
   ],
   "source": [
    "arr=np.array([10,5,20,100])\n",
    "arr>=20"
   ]
  },
  {
   "cell_type": "code",
   "execution_count": 14,
   "id": "316e5c2d-4f6f-42e5-8d3f-38dc2107c2d2",
   "metadata": {},
   "outputs": [
    {
     "data": {
      "text/plain": [
       "array([False, False, False,  True])"
      ]
     },
     "execution_count": 14,
     "metadata": {},
     "output_type": "execute_result"
    }
   ],
   "source": [
    "# equivalent ufunc for the comparison operator\n",
    "np.greater(arr,30)"
   ]
  },
  {
   "cell_type": "code",
   "execution_count": 18,
   "id": "10f3091e-016e-42b0-839a-3bac9ed51899",
   "metadata": {},
   "outputs": [
    {
     "data": {
      "text/plain": [
       "array([[3, 2, 3, 4],\n",
       "       [1, 2, 9, 1],\n",
       "       [4, 6, 8, 2]])"
      ]
     },
     "execution_count": 18,
     "metadata": {},
     "output_type": "execute_result"
    }
   ],
   "source": [
    "# creating a 2D array of random integers with values <10\n",
    "arr=np.random.randint(10,size=(3,4))\n",
    "arr"
   ]
  },
  {
   "cell_type": "code",
   "execution_count": 19,
   "id": "68246053-54fe-4e67-8ffc-7567fca9ed49",
   "metadata": {},
   "outputs": [
    {
     "data": {
      "text/plain": [
       "3"
      ]
     },
     "execution_count": 19,
     "metadata": {},
     "output_type": "execute_result"
    }
   ],
   "source": [
    "# counting number of values that are greater than 5 using np.sum()\n",
    "np.sum(arr>5)"
   ]
  },
  {
   "cell_type": "code",
   "execution_count": 20,
   "id": "3e347dbc-7f84-4819-977b-8b22a5e890d2",
   "metadata": {},
   "outputs": [
    {
     "data": {
      "text/plain": [
       "array([0, 1, 2])"
      ]
     },
     "execution_count": 20,
     "metadata": {},
     "output_type": "execute_result"
    }
   ],
   "source": [
    "\n",
    "# counting number of values that are greater than 5 in each row\n",
    "np.sum(arr>5, axis=1)"
   ]
  },
  {
   "cell_type": "code",
   "execution_count": 21,
   "id": "8065c4bd-d947-4c07-b481-95abd9037581",
   "metadata": {},
   "outputs": [
    {
     "data": {
      "text/plain": [
       "array([51, 80, 32, 54,  0, 38, 19, 46, 42, 56, 60, 77, 30, 24,  2,  3, 94,\n",
       "       98, 13, 40, 72, 19, 95, 72, 26, 66, 52, 67, 61, 14])"
      ]
     },
     "execution_count": 21,
     "metadata": {},
     "output_type": "execute_result"
    }
   ],
   "source": [
    "# math test scores of students in a class\n",
    "test_scores=np.random.randint(100,size=(30))\n",
    "test_scores"
   ]
  },
  {
   "cell_type": "code",
   "execution_count": 23,
   "id": "63ee007f-a2a0-4279-a0d9-9f91147a30ee",
   "metadata": {},
   "outputs": [
    {
     "data": {
      "text/plain": [
       "10"
      ]
     },
     "execution_count": 23,
     "metadata": {},
     "output_type": "execute_result"
    }
   ],
   "source": [
    "# number of students who scored more than 50 but less than 75\n",
    "np.sum((test_scores>50) & (test_scores<75))\n"
   ]
  },
  {
   "cell_type": "code",
   "execution_count": 24,
   "id": "690a6df7-dc75-4bea-b1a9-2626f9eda846",
   "metadata": {},
   "outputs": [
    {
     "data": {
      "text/plain": [
       "(array([ 0,  3,  9, 10, 20, 23, 25, 26, 27, 28], dtype=int64),)"
      ]
     },
     "execution_count": 24,
     "metadata": {},
     "output_type": "execute_result"
    }
   ],
   "source": [
    "# extracting all the indices which meet the condition\n",
    "np.where((test_scores>50) & (test_scores<75))"
   ]
  },
  {
   "cell_type": "code",
   "execution_count": 25,
   "id": "7cc86356-f789-47c4-98d9-33fd05607f6a",
   "metadata": {},
   "outputs": [
    {
     "data": {
      "text/plain": [
       "array([80, 77, 94, 98, 95])"
      ]
     },
     "execution_count": 25,
     "metadata": {},
     "output_type": "execute_result"
    }
   ],
   "source": [
    "# extracting all the elements (values) that adhere to the mask\n",
    "mask=test_scores>75\n",
    "test_scores[mask]"
   ]
  },
  {
   "cell_type": "code",
   "execution_count": 28,
   "id": "776c3a1e-9ae0-4454-9f59-6fd31798bb63",
   "metadata": {},
   "outputs": [
    {
     "name": "stdout",
     "output_type": "stream",
     "text": [
      "{'id': ['35Y3D', 'CG5S8', 'FZE2H', 'APQ4L', 'LV6KO', 'AY5HX', 'Z0PZ7', 'GB9B9', 'SXKKM', 'XFAFK', '6X7WO', 'TNG1N', 'YXWIY', 'LBTF1', 'XHS5M', 'HHEZ1', 'YWV4B', 'VSMAX', 'R3UTE', 'GQVK0', 'GXZH2', '1I4HG', 'HI08M', 'MIUHE', '0BKEM', '1OSSE', 'CKH21', 'WEG3G', 'EZI7J', '64VOT'], 'roll': array([ 1,  2,  3,  4,  5,  6,  7,  8,  9, 10, 11, 12, 13, 14, 15, 16, 17,\n",
      "       18, 19, 20, 21, 22, 23, 24, 25, 26, 27, 28, 29, 30]), 'math_scores': array([44, 34, 34, 88, 33,  5, 36,  0, 75, 34, 69, 53, 80, 62,  8, 61,  1,\n",
      "       81, 35, 91, 40, 36, 48, 25, 67, 35, 30, 29, 33, 18]), 'physic_scores': array([17, 93, 84,  2, 69, 12, 44, 66, 91, 85, 39, 39, 75, 22, 30, 17, 70,\n",
      "       71, 18, 92, 43, 83, 49, 41, 93, 46, 21, 73, 89, 96]), 'chemistry_scores': array([91, 73, 28, 81, 58,  0, 86, 63, 16, 36, 94, 24, 63, 67, 51,  8, 56,\n",
      "       91, 93, 87, 32, 19, 72, 71, 87, 13, 58, 81, 55, 64])}\n"
     ]
    }
   ],
   "source": [
    "import numpy as np\n",
    "import pandas as pd\n",
    "import random\n",
    "import string\n",
    "\n",
    "# create a dictionary that stores\n",
    "# students roll number, math, physics and chem scores\n",
    "scores_dict={'id' : [''.join(random.choices(string.ascii_uppercase+string.digits,k=5))for _ in range(30)],\n",
    "             'roll':np.arange(30)+1,\n",
    "             'math_scores':np.random.randint(100,size=(30)),\n",
    "             'physic_scores':np.random.randint(100,size=(30)), \n",
    "             'chemistry_scores':np.random.randint(100,size=(30))}\n",
    "\n",
    "print(scores_dict)"
   ]
  },
  {
   "cell_type": "code",
   "execution_count": 29,
   "id": "e242a711-6f87-4863-ba6d-dea158b50932",
   "metadata": {},
   "outputs": [
    {
     "data": {
      "text/html": [
       "<div>\n",
       "<style scoped>\n",
       "    .dataframe tbody tr th:only-of-type {\n",
       "        vertical-align: middle;\n",
       "    }\n",
       "\n",
       "    .dataframe tbody tr th {\n",
       "        vertical-align: top;\n",
       "    }\n",
       "\n",
       "    .dataframe thead th {\n",
       "        text-align: right;\n",
       "    }\n",
       "</style>\n",
       "<table border=\"1\" class=\"dataframe\">\n",
       "  <thead>\n",
       "    <tr style=\"text-align: right;\">\n",
       "      <th></th>\n",
       "      <th>id</th>\n",
       "      <th>roll</th>\n",
       "      <th>math_scores</th>\n",
       "      <th>physic_scores</th>\n",
       "      <th>chemistry_scores</th>\n",
       "    </tr>\n",
       "  </thead>\n",
       "  <tbody>\n",
       "    <tr>\n",
       "      <th>0</th>\n",
       "      <td>35Y3D</td>\n",
       "      <td>1</td>\n",
       "      <td>44</td>\n",
       "      <td>17</td>\n",
       "      <td>91</td>\n",
       "    </tr>\n",
       "    <tr>\n",
       "      <th>1</th>\n",
       "      <td>CG5S8</td>\n",
       "      <td>2</td>\n",
       "      <td>34</td>\n",
       "      <td>93</td>\n",
       "      <td>73</td>\n",
       "    </tr>\n",
       "    <tr>\n",
       "      <th>2</th>\n",
       "      <td>FZE2H</td>\n",
       "      <td>3</td>\n",
       "      <td>34</td>\n",
       "      <td>84</td>\n",
       "      <td>28</td>\n",
       "    </tr>\n",
       "    <tr>\n",
       "      <th>3</th>\n",
       "      <td>APQ4L</td>\n",
       "      <td>4</td>\n",
       "      <td>88</td>\n",
       "      <td>2</td>\n",
       "      <td>81</td>\n",
       "    </tr>\n",
       "    <tr>\n",
       "      <th>4</th>\n",
       "      <td>LV6KO</td>\n",
       "      <td>5</td>\n",
       "      <td>33</td>\n",
       "      <td>69</td>\n",
       "      <td>58</td>\n",
       "    </tr>\n",
       "  </tbody>\n",
       "</table>\n",
       "</div>"
      ],
      "text/plain": [
       "      id  roll  math_scores  physic_scores  chemistry_scores\n",
       "0  35Y3D     1           44             17                91\n",
       "1  CG5S8     2           34             93                73\n",
       "2  FZE2H     3           34             84                28\n",
       "3  APQ4L     4           88              2                81\n",
       "4  LV6KO     5           33             69                58"
      ]
     },
     "execution_count": 29,
     "metadata": {},
     "output_type": "execute_result"
    }
   ],
   "source": [
    "# convert the scores_dict to a pandas dataframe\n",
    "\n",
    "df=pd.DataFrame(scores_dict)\n",
    "df.head()"
   ]
  },
  {
   "cell_type": "code",
   "execution_count": 30,
   "id": "aeb0fd1c-b818-45b8-827a-b36de26d94ab",
   "metadata": {},
   "outputs": [
    {
     "name": "stdout",
     "output_type": "stream",
     "text": [
      "<class 'pandas.core.frame.DataFrame'>\n",
      "Index: 30 entries, 35Y3D to 64VOT\n",
      "Data columns (total 4 columns):\n",
      " #   Column            Non-Null Count  Dtype\n",
      "---  ------            --------------  -----\n",
      " 0   roll              30 non-null     int32\n",
      " 1   math_scores       30 non-null     int32\n",
      " 2   physic_scores     30 non-null     int32\n",
      " 3   chemistry_scores  30 non-null     int32\n",
      "dtypes: int32(4)\n",
      "memory usage: 720.0+ bytes\n"
     ]
    }
   ],
   "source": [
    "# make id column the index of the dataframe\n",
    "\n",
    "df=df.set_index('id')\n",
    "df.info()"
   ]
  },
  {
   "cell_type": "code",
   "execution_count": 31,
   "id": "3731b12b-6054-4806-a83d-2bc820fee58d",
   "metadata": {},
   "outputs": [
    {
     "data": {
      "text/plain": [
       "id\n",
       "35Y3D    44\n",
       "CG5S8    34\n",
       "FZE2H    34\n",
       "APQ4L    88\n",
       "LV6KO    33\n",
       "AY5HX     5\n",
       "Z0PZ7    36\n",
       "GB9B9     0\n",
       "SXKKM    75\n",
       "XFAFK    34\n",
       "6X7WO    69\n",
       "TNG1N    53\n",
       "YXWIY    80\n",
       "LBTF1    62\n",
       "XHS5M     8\n",
       "HHEZ1    61\n",
       "YWV4B     1\n",
       "VSMAX    81\n",
       "R3UTE    35\n",
       "GQVK0    91\n",
       "GXZH2    40\n",
       "1I4HG    36\n",
       "HI08M    48\n",
       "MIUHE    25\n",
       "0BKEM    67\n",
       "1OSSE    35\n",
       "CKH21    30\n",
       "WEG3G    29\n",
       "EZI7J    33\n",
       "64VOT    18\n",
       "Name: math_scores, dtype: int32"
      ]
     },
     "execution_count": 31,
     "metadata": {},
     "output_type": "execute_result"
    }
   ],
   "source": [
    "# acces individual columns\n",
    "\n",
    "df.math_scores"
   ]
  },
  {
   "cell_type": "code",
   "execution_count": 33,
   "id": "0fc09ca9-bff9-4815-b445-b0e399c8ed1f",
   "metadata": {},
   "outputs": [
    {
     "data": {
      "text/plain": [
       "roll                11\n",
       "math_scores         69\n",
       "physic_scores       39\n",
       "chemistry_scores    94\n",
       "Name: 6X7WO, dtype: int32"
      ]
     },
     "execution_count": 33,
     "metadata": {},
     "output_type": "execute_result"
    }
   ],
   "source": [
    "# access the 10th row\n",
    "df.iloc[10]"
   ]
  },
  {
   "cell_type": "code",
   "execution_count": null,
   "id": "7c0269f5-7ce9-4d19-953f-190050be00fb",
   "metadata": {},
   "outputs": [],
   "source": []
  },
  {
   "cell_type": "code",
   "execution_count": null,
   "id": "c29af4da-fdc5-45b4-a193-21b043293b3b",
   "metadata": {},
   "outputs": [],
   "source": []
  }
 ],
 "metadata": {
  "kernelspec": {
   "display_name": "Python 3 (ipykernel)",
   "language": "python",
   "name": "python3"
  },
  "language_info": {
   "codemirror_mode": {
    "name": "ipython",
    "version": 3
   },
   "file_extension": ".py",
   "mimetype": "text/x-python",
   "name": "python",
   "nbconvert_exporter": "python",
   "pygments_lexer": "ipython3",
   "version": "3.9.5"
  }
 },
 "nbformat": 4,
 "nbformat_minor": 5
}

