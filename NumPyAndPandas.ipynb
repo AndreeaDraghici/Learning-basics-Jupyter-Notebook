{
 "cells": [
  {
   "cell_type": "code",
   "execution_count": 2,
   "id": "873d2f43-1859-43bc-abba-4d1aa0849f53",
   "metadata": {},
   "outputs": [
    {
     "data": {
      "text/plain": [
       "array([2, 3, 1])"
      ]
     },
     "execution_count": 2,
     "metadata": {},
     "output_type": "execute_result"
    }
   ],
   "source": [
    "import numpy as np\n",
    "\n",
    "# creating an array using Python lists\n",
    "arr=[2,3,1]\n",
    "np.array(arr)"
   ]
  },
  {
   "cell_type": "code",
   "execution_count": 4,
   "id": "9257e1a2-8fdb-491e-b3a3-c27cbd66aeaf",
   "metadata": {},
   "outputs": [
    {
     "data": {
      "text/plain": [
       "array([ 0,  3,  6,  9, 12, 15, 18, 21, 24, 27])"
      ]
     },
     "execution_count": 4,
     "metadata": {},
     "output_type": "execute_result"
    }
   ],
   "source": [
    "# creating an array of linearly-speced elements\n",
    "# starting with 0, ending at 30 stepping by 3\n",
    "np.arange(0,30,3)"
   ]
  },
  {
   "cell_type": "code",
   "execution_count": 5,
   "id": "d2781a03-348d-40ff-9b61-d95ddf4e6310",
   "metadata": {},
   "outputs": [
    {
     "data": {
      "text/plain": [
       "array([ 0. ,  2.5,  5. ,  7.5, 10. ])"
      ]
     },
     "execution_count": 5,
     "metadata": {},
     "output_type": "execute_result"
    }
   ],
   "source": [
    "# creating an array by dividing a range into a number of parts\n",
    "# starting with 0 and ending at 10 divided into 5 elements\n",
    "np.linspace(0,10,5)"
   ]
  },
  {
   "cell_type": "code",
   "execution_count": 6,
   "id": "eac6818e-e1b8-4a4a-b626-1b153a749a88",
   "metadata": {},
   "outputs": [
    {
     "data": {
      "text/plain": [
       "array([[-0.14987512, -1.18215038, -1.58571979],\n",
       "       [ 1.76204813,  0.17311594,  0.09687449],\n",
       "       [ 0.14049602,  0.30444836, -2.116034  ]])"
      ]
     },
     "execution_count": 6,
     "metadata": {},
     "output_type": "execute_result"
    }
   ],
   "source": [
    "# creating a 2D array with normally distributed random values\n",
    "# mean at 0 and standard deviation 1\n",
    "np.random.normal(0,1,(3,3))"
   ]
  },
  {
   "cell_type": "code",
   "execution_count": 9,
   "id": "82f5a2ad-7bd8-415b-8c30-77d0c44bf2e3",
   "metadata": {},
   "outputs": [
    {
     "name": "stdout",
     "output_type": "stream",
     "text": [
      "Arr3 dimension:  3\n",
      "Arr3 shape:  (3, 4, 5)\n",
      "Arr3 size:  60\n",
      "Arr3 bytes:  240  bytes\n"
     ]
    }
   ],
   "source": [
    "## set a seed value to generate same random values on every run\n",
    "np.random.seed(0)\n",
    "\n",
    "# create 3 arrays(1D,2D,3D)\n",
    "arr1=np.random.randint(10,size=6)\n",
    "arr2=np.random.randint(10,size=(3,4))\n",
    "arr3=np.random.randint(10,size=(3,4,5))\n",
    "\n",
    "## printing the dimension, shape, size and bytes of an array\n",
    "print(\"Arr3 dimension: \", arr3.ndim)\n",
    "print(\"Arr3 shape: \",arr3.shape)\n",
    "print(\"Arr3 size: \",arr3.size)\n",
    "print(\"Arr3 bytes: \",arr3.nbytes,\" bytes\")"
   ]
  },
  {
   "cell_type": "code",
   "execution_count": 10,
   "id": "5830c76e-c739-4708-b5b7-19356955638c",
   "metadata": {},
   "outputs": [
    {
     "data": {
      "text/plain": [
       "array([ 8, 10, 12])"
      ]
     },
     "execution_count": 10,
     "metadata": {},
     "output_type": "execute_result"
    }
   ],
   "source": [
    "## defining 2 arrays and adding them as vectors\n",
    "a=np.array([3,4,5])\n",
    "b=np.array([5,6,7])\n",
    "\n",
    "a+b"
   ]
  },
  {
   "cell_type": "code",
   "execution_count": 11,
   "id": "1ade888b-079a-45d0-8b73-c6c51d0b05db",
   "metadata": {},
   "outputs": [
    {
     "data": {
      "text/plain": [
       "array([[1., 1., 1.],\n",
       "       [1., 1., 1.],\n",
       "       [1., 1., 1.]])"
      ]
     },
     "execution_count": 11,
     "metadata": {},
     "output_type": "execute_result"
    }
   ],
   "source": [
    "# creating an array of 1s\n",
    "one=np.ones((3,3))\n",
    "one"
   ]
  },
  {
   "cell_type": "code",
   "execution_count": 12,
   "id": "4c25d864-47c8-4582-a07d-4111f279421f",
   "metadata": {},
   "outputs": [
    {
     "data": {
      "text/plain": [
       "array([[4., 5., 6.],\n",
       "       [4., 5., 6.],\n",
       "       [4., 5., 6.]])"
      ]
     },
     "execution_count": 12,
     "metadata": {},
     "output_type": "execute_result"
    }
   ],
   "source": [
    "# adding a 1D array tto a 2D array\n",
    "one+a"
   ]
  },
  {
   "cell_type": "code",
   "execution_count": null,
   "id": "22644da1-4839-4877-9bf7-085d8cad3b21",
   "metadata": {},
   "outputs": [],
   "source": []
  }
 ],
 "metadata": {
  "kernelspec": {
   "display_name": "Python 3 (ipykernel)",
   "language": "python",
   "name": "python3"
  },
  "language_info": {
   "codemirror_mode": {
    "name": "ipython",
    "version": 3
   },
   "file_extension": ".py",
   "mimetype": "text/x-python",
   "name": "python",
   "nbconvert_exporter": "python",
   "pygments_lexer": "ipython3",
   "version": "3.9.5"
  }
 },
 "nbformat": 4,
 "nbformat_minor": 5
}
